{
  "nbformat": 4,
  "nbformat_minor": 0,
  "metadata": {
    "colab": {
      "name": "ratings.ipynb",
      "provenance": [],
      "collapsed_sections": [],
      "authorship_tag": "ABX9TyMScn2Xcni3XLAwxOBeMOXM",
      "include_colab_link": true
    },
    "kernelspec": {
      "name": "python3",
      "display_name": "Python 3"
    }
  },
  "cells": [
    {
      "cell_type": "markdown",
      "metadata": {
        "id": "view-in-github",
        "colab_type": "text"
      },
      "source": [
        "<a href=\"https://colab.research.google.com/github/LinLin-LL/product_recommendation/blob/run_in_kaggle/ratings.ipynb\" target=\"_parent\"><img src=\"https://colab.research.google.com/assets/colab-badge.svg\" alt=\"Open In Colab\"/></a>"
      ]
    },
    {
      "cell_type": "code",
      "metadata": {
        "id": "_e5LsuXTMNK4"
      },
      "source": [
        "!pip install pyspark"
      ],
      "execution_count": null,
      "outputs": []
    },
    {
      "cell_type": "code",
      "metadata": {
        "id": "erCJz63zMco-"
      },
      "source": [
        "import pyspark\n",
        "from pyspark.sql import SparkSession\n",
        "from pyspark.sql.functions import monotonically_increasing_id\n",
        "from pyspark.sql.functions import col\n",
        "from pyspark.ml.recommendation import ALS\n",
        "from pyspark.ml.tuning import ParamGridBuilder\n",
        "from pyspark.ml.tuning import CrossValidator\n",
        "from pyspark.ml.evaluation import RegressionEvaluator"
      ],
      "execution_count": 2,
      "outputs": []
    },
    {
      "cell_type": "code",
      "metadata": {
        "id": "2BaBVPqvMc15"
      },
      "source": [
        "from google.colab import files\n",
        "files.upload()"
      ],
      "execution_count": null,
      "outputs": []
    },
    {
      "cell_type": "code",
      "metadata": {
        "id": "W6zViVifMdAc",
        "colab": {
          "base_uri": "https://localhost:8080/"
        },
        "outputId": "6fff38fd-6192-4722-d7e0-3679aee4d67b"
      },
      "source": [
        "!ls"
      ],
      "execution_count": 4,
      "outputs": [
        {
          "output_type": "stream",
          "text": [
            "ratings.csv  sample_data\n"
          ],
          "name": "stdout"
        }
      ]
    },
    {
      "cell_type": "code",
      "metadata": {
        "id": "4XYX68S0MdFg"
      },
      "source": [
        "spark = SparkSession \\\n",
        "    .builder \\\n",
        "    .appName(\"ratings\") \\\n",
        "    .getOrCreate()"
      ],
      "execution_count": 5,
      "outputs": []
    },
    {
      "cell_type": "code",
      "metadata": {
        "id": "RABBaNRDMdK0"
      },
      "source": [
        "df_rating = spark.read.csv('ratings.csv', header=True, inferSchema=True)\n",
        "#df_rating.printSchema()"
      ],
      "execution_count": 6,
      "outputs": []
    },
    {
      "cell_type": "code",
      "metadata": {
        "id": "1d8diZkDMdQ9"
      },
      "source": [
        "users = df_rating.select('user').distinct()\n",
        "users = users.coalesce(1)\n",
        "users = users.withColumn(\n",
        "\"userIntId\", monotonically_increasing_id()).persist()\n",
        "#users.show()"
      ],
      "execution_count": 7,
      "outputs": []
    },
    {
      "cell_type": "code",
      "metadata": {
        "id": "-dZ0WbtaMdXx"
      },
      "source": [
        "items = df_rating.select('item').distinct()\n",
        "items = items.coalesce(1)\n",
        "items = items.withColumn(\n",
        "\"itemIntId\", monotonically_increasing_id()).persist()\n",
        "#items.show()"
      ],
      "execution_count": 8,
      "outputs": []
    },
    {
      "cell_type": "code",
      "metadata": {
        "id": "2e9iMKNTMdbj"
      },
      "source": [
        "ratings_w_int_ids = df_rating.join(\n",
        "users, \"user\", \"left\").join(items, \"item\", \"left\")\n",
        "#ratings_w_int_ids.show()"
      ],
      "execution_count": 9,
      "outputs": []
    },
    {
      "cell_type": "code",
      "metadata": {
        "id": "lA8mbHH_Mdh0"
      },
      "source": [
        "ratings_data = ratings_w_int_ids.select(\n",
        "                                        col(\"userIntId\").alias(\"userId\"),\n",
        "                                        col(\"itemIntId\").alias(\"itemId\"),\n",
        "                                        col(\"rating\"))\n",
        "#ratings_data.show()"
      ],
      "execution_count": 10,
      "outputs": []
    },
    {
      "cell_type": "code",
      "metadata": {
        "id": "cj5gXJvU2gS0",
        "colab": {
          "base_uri": "https://localhost:8080/"
        },
        "outputId": "56773a9c-e26a-4932-d6e9-18d41a5d9a03"
      },
      "source": [
        "ratings_data.count()"
      ],
      "execution_count": 11,
      "outputs": [
        {
          "output_type": "execute_result",
          "data": {
            "text/plain": [
              "70"
            ]
          },
          "metadata": {
            "tags": []
          },
          "execution_count": 11
        }
      ]
    },
    {
      "cell_type": "code",
      "metadata": {
        "id": "CKgjdWsqMdoX"
      },
      "source": [
        "# Split the ratings dataframe into training and test data\n",
        "(training_data, test_data) = ratings_data.randomSplit([0.8, 0.2], seed=42)"
      ],
      "execution_count": 12,
      "outputs": []
    },
    {
      "cell_type": "markdown",
      "metadata": {
        "id": "L9-xtC7Puc-Y"
      },
      "source": [
        "## Fit a base model"
      ]
    },
    {
      "cell_type": "code",
      "metadata": {
        "id": "SodityPmMduW"
      },
      "source": [
        "als = ALS(userCol=\"userId\", itemCol=\"itemId\", ratingCol=\"rating\", \n",
        "         rank = 3, maxIter = 10, regParam =0.1,\n",
        "          coldStartStrategy=\"drop\", nonnegative =True, implicitPrefs = False)"
      ],
      "execution_count": 13,
      "outputs": []
    },
    {
      "cell_type": "code",
      "metadata": {
        "id": "-KmhbFPNVS2i"
      },
      "source": [
        "# Fit the mdoel to the training_data\n",
        "model = als.fit(training_data)"
      ],
      "execution_count": 14,
      "outputs": []
    },
    {
      "cell_type": "code",
      "metadata": {
        "id": "gVI2Rw_RvwuK"
      },
      "source": [
        "# Generate predictions on test_data\n",
        "predictions = model.transform(test_data)"
      ],
      "execution_count": 15,
      "outputs": []
    },
    {
      "cell_type": "code",
      "metadata": {
        "id": "cTOZ8c8Dv2GB"
      },
      "source": [
        "# Tell Spark how to evaluate predictions\n",
        "evaluator = RegressionEvaluator(metricName=\"rmse\", labelCol=\"rating\",\n",
        "predictionCol=\"prediction\")"
      ],
      "execution_count": 16,
      "outputs": []
    },
    {
      "cell_type": "code",
      "metadata": {
        "colab": {
          "base_uri": "https://localhost:8080/"
        },
        "id": "srmFasL5v7aN",
        "outputId": "d9a44622-c3e2-4daf-98e0-e1b5f27308c6"
      },
      "source": [
        "# Obtain and print RMSE\n",
        "rmse = evaluator.evaluate(predictions)\n",
        "print('RMSE: ', rmse)"
      ],
      "execution_count": 19,
      "outputs": [
        {
          "output_type": "stream",
          "text": [
            "RMSE:  3.084377655027626\n"
          ],
          "name": "stdout"
        }
      ]
    },
    {
      "cell_type": "markdown",
      "metadata": {
        "id": "SjZ-pwahw9SI"
      },
      "source": [
        "## Tune parameters and CV"
      ]
    },
    {
      "cell_type": "code",
      "metadata": {
        "id": "U-EkPhCFxdJq"
      },
      "source": [
        "# Build generic ALS model without hyperparameters\n",
        "als = ALS(userCol=\"userId\", itemCol=\"itemId\", ratingCol=\"rating\", \n",
        "          coldStartStrategy=\"drop\", nonnegative = True,\n",
        "          implicitPrefs = False)\n",
        "\n",
        "# Creates a ParamGridBuilder\n",
        "param_grid = ParamGridBuilder().addGrid(als.rank, [3,4,5]).addGrid(als.maxIter, [2,3,4]).addGrid(als.regParam, [.05, .1, .15]).build()\n",
        "\n",
        "# Complete the evaluator code\n",
        "evaluator = RegressionEvaluator(metricName=\"rmse\", labelCol=\"rating\", predictionCol=\"prediction\")\n",
        "\n",
        "cv = CrossValidator(estimator = als,\n",
        "                    estimatorParamMaps = param_grid,\n",
        "                    evaluator = evaluator,\n",
        "                    numFolds = 3)\n",
        "\n"
      ],
      "execution_count": 45,
      "outputs": []
    },
    {
      "cell_type": "code",
      "metadata": {
        "id": "SJkdHEZOMdls"
      },
      "source": [
        "# Run the cv on the training data\n",
        "model = cv.fit(training_data)"
      ],
      "execution_count": 46,
      "outputs": []
    },
    {
      "cell_type": "code",
      "metadata": {
        "id": "Pcb4NXAuMdf4"
      },
      "source": [
        "# Extract best combination of values from cross validation\n",
        "best_model = model.bestModel"
      ],
      "execution_count": 47,
      "outputs": []
    },
    {
      "cell_type": "code",
      "metadata": {
        "colab": {
          "base_uri": "https://localhost:8080/"
        },
        "id": "8omK8CaG9wP8",
        "outputId": "6c043f8e-d0bb-413a-cf6a-86d890c53bb2"
      },
      "source": [
        "# Generate test set predictions and evaluate using RMSE\n",
        "predictions = best_model.transform(test_data)\n",
        "rmse = evaluator.evaluate(predictions)\n",
        "# Print evaluation metrics and model parameters\n",
        "print (\"**Best Model**\")\n",
        "print (\"RMSE =\", rmse)\n",
        "print (\" Rank: \", best_model.rank)\n",
        "print (\" MaxIter: \", best_model._java_obj.parent().getMaxIter())\n",
        "print (\" RegParam: \", best_model._java_obj.parent().getRegParam())"
      ],
      "execution_count": 48,
      "outputs": [
        {
          "output_type": "stream",
          "text": [
            "**Best Model**\n",
            "RMSE = 2.722178651695816\n",
            " Rank:  4\n",
            " MaxIter:  3\n",
            " RegParam:  0.1\n"
          ],
          "name": "stdout"
        }
      ]
    },
    {
      "cell_type": "code",
      "metadata": {
        "id": "_vLHcI8ZVh7Z",
        "colab": {
          "base_uri": "https://localhost:8080/"
        },
        "outputId": "1dd95778-9f06-4c56-9658-b37040d82558"
      },
      "source": [
        "# Generate predictions on the test_data\n",
        "test_predictions = best_model.transform(test_data)\n",
        "test_predictions.collect()"
      ],
      "execution_count": 49,
      "outputs": [
        {
          "output_type": "execute_result",
          "data": {
            "text/plain": [
              "[Row(userId=44, itemId=12, rating=5, prediction=4.929352283477783),\n",
              " Row(userId=34, itemId=9, rating=5, prediction=1.1509063243865967)]"
            ]
          },
          "metadata": {
            "tags": []
          },
          "execution_count": 49
        }
      ]
    }
  ]
}